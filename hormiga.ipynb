{
  "nbformat": 4,
  "nbformat_minor": 0,
  "metadata": {
    "colab": {
      "provenance": [],
      "authorship_tag": "ABX9TyNeRpwy3GwU37wUPrVsLcp6",
      "include_colab_link": true
    },
    "kernelspec": {
      "name": "python3",
      "display_name": "Python 3"
    },
    "language_info": {
      "name": "python"
    }
  },
  "cells": [
    {
      "cell_type": "markdown",
      "metadata": {
        "id": "view-in-github",
        "colab_type": "text"
      },
      "source": [
        "<a href=\"https://colab.research.google.com/github/MAGB21/homrigaAlgorithm/blob/main/hormiga.ipynb\" target=\"_parent\"><img src=\"https://colab.research.google.com/assets/colab-badge.svg\" alt=\"Open In Colab\"/></a>"
      ]
    },
    {
      "cell_type": "markdown",
      "source": [
        "la homria debe encontrar comida"
      ],
      "metadata": {
        "id": "ZO0xaFLJoR84"
      }
    },
    {
      "cell_type": "code",
      "source": [
        "filas=10\n",
        "columnas=10\n",
        "import numpy as np\n",
        "habitacion = np.zeros((filas, columnas))\n",
        "print(habitacion)"
      ],
      "metadata": {
        "id": "mwjdeshSoaLw"
      },
      "execution_count": null,
      "outputs": []
    },
    {
      "cell_type": "code",
      "source": [
        "import random\n",
        "comida_x = random.randint(0, 9)  # Genera un número entre 1 y 10 (ambos inclusive)\n",
        "comida_y = random.randint(0, 9)  # Genera un número entre 1 y 10 (ambos inclusive)\n",
        "habitacion[comida_x ,comida_y]=2\n",
        "print(habitacion)"
      ],
      "metadata": {
        "colab": {
          "base_uri": "https://localhost:8080/"
        },
        "id": "LBl2SFyTpkJI",
        "outputId": "be59655d-fe65-477e-fa3e-872789e117cb"
      },
      "execution_count": null,
      "outputs": [
        {
          "output_type": "stream",
          "name": "stdout",
          "text": [
            "[[0. 0. 0. 0. 0. 0. 0. 0. 0. 0.]\n",
            " [0. 0. 0. 0. 0. 0. 0. 0. 0. 0.]\n",
            " [0. 0. 0. 0. 0. 0. 0. 0. 0. 0.]\n",
            " [0. 2. 0. 0. 0. 0. 0. 0. 0. 0.]\n",
            " [0. 0. 0. 0. 0. 0. 0. 0. 0. 0.]\n",
            " [0. 0. 0. 0. 0. 0. 0. 0. 0. 0.]\n",
            " [0. 0. 0. 0. 0. 0. 0. 0. 0. 0.]\n",
            " [0. 0. 0. 0. 0. 0. 0. 0. 0. 0.]\n",
            " [0. 0. 0. 0. 0. 0. 0. 0. 0. 0.]\n",
            " [0. 0. 0. 0. 0. 0. 0. 0. 0. 0.]]\n"
          ]
        }
      ]
    },
    {
      "cell_type": "code",
      "source": [
        "hormiga_x = random.randint(0, 9)  # Genera un número entre 1 y 10 (ambos inclusive)\n",
        "hormiga_y = random.randint(0, 9)  # Genera un número entre 1 y 10 (ambos inclusive)\n",
        "habitacion[hormiga_x ,hormiga_y ]=4\n",
        "print(habitacion)\n",
        "print(hormiga_x)\n",
        "print(hormiga_y)"
      ],
      "metadata": {
        "id": "IMFYIssarPyG"
      },
      "execution_count": null,
      "outputs": []
    },
    {
      "cell_type": "code",
      "source": [
        "#MOVIMIENTOS IZQUIERDA(I) ADELANTE(A) DERECHA(D) QUIETO(Q)\n",
        "#EJEMPLO DE INDIVIDUO1 HORMIGA=[A,A,D,D,A,I,Q,Q,Q,Q]\n",
        "#EJEMPLO DE INDIVIDUO2 HORMIGA=[D,D,A,I,A,D,Q,Q,Q,Q]\n",
        "#GENERAR LA VARIABLE EJE CON LOS SIGUIENTES VALORES NORTE(0)-ESTE(1)-SUR(2)-OESTE(3)"
      ],
      "metadata": {
        "id": "QhDM4BZCrn52"
      },
      "execution_count": null,
      "outputs": []
    },
    {
      "cell_type": "code",
      "source": [
        "#VERIFICA A QUE EJES TIENE PERMITIDO LA HORMIGA MOVERSE\n",
        "def elegirEje(hormiga_x,hormiga_y):\n",
        "  eje = [0,1,2,3]#EJE VALORES NORTE(0)-ESTE(1)-SUR(2)-OESTE(3)\n",
        "  if hormiga_x == 0:\n",
        "      eje.remove(0)\n",
        "  elif hormiga_x == 9:\n",
        "      eje.remove(2)\n",
        "  if hormiga_y == 0:\n",
        "      eje.remove(3)\n",
        "  elif hormiga_y == 9:\n",
        "      eje.remove(1)\n",
        "  ejeElegido = random.choice(eje)\n",
        "  print(\"eje elegido de funcion elegirEje\", ejeElegido)\n",
        "  return ejeElegido"
      ],
      "metadata": {
        "id": "jVPDEPnru16c"
      },
      "execution_count": null,
      "outputs": []
    },
    {
      "cell_type": "code",
      "source": [
        "#ROTA A LA HORMIGA DEPENDIENDO DEL MOVIMIENTO QUE SE HAGA(IZQUIERDA O DERECHA)\n",
        "def rotarEje(ejeElegido,direccion):\n",
        "  #MOVIMIENTO A LA DERECHA\n",
        "  print(\"entro rotarEje y eje ya contenido \",ejeElegido)\n",
        "  if ejeElegido == 0 and direccion == 'D':#NORTE\n",
        "    ejeElegido =1\n",
        "  elif ejeElegido == 1 and direccion == 'D':#OESTE\n",
        "    ejeElegido =2\n",
        "  elif ejeElegido == 2 and direccion == 'D':#SUR\n",
        "    ejeElegido =3\n",
        "  elif ejeElegido == 3 and direccion == 'D':#ESTE\n",
        "    ejeElegido =0\n",
        "    #MOVIMIENTO A LA IZQUIERDA\n",
        "  elif ejeElegido == 0 and direccion == 'I':#NORTE\n",
        "    ejeElegido = 3\n",
        "  elif ejeElegido == 1 and direccion == 'I':#OESTE\n",
        "    ejeElegido = 0\n",
        "  elif ejeElegido == 2 and direccion == 'I':#SUR\n",
        "    ejeElegido = 1\n",
        "  elif ejeElegido == 3 and direccion == 'I':#ESTE\n",
        "    ejeElegido = 2\n",
        "  print(\"eje elegido de funcion rotarEje\", ejeElegido)\n",
        "  return ejeElegido\n"
      ],
      "metadata": {
        "id": "by_EMUqhNsmi"
      },
      "execution_count": null,
      "outputs": []
    },
    {
      "cell_type": "code",
      "source": [
        "#definir funcion para calcular la distancia\n",
        "def calDist(hormiga_x,hormiga_y,comida_x,comida_y):\n",
        "    distancia=abs(hormiga_x-comida_x)+abs(hormiga_y-comida_y)\n",
        "    #retornara la distancias hechas por los distintos patrones de movimiento de la hormiga\n",
        "    return distancia\n"
      ],
      "metadata": {
        "id": "fS5Jy5Rmqg6z"
      },
      "execution_count": null,
      "outputs": []
    },
    {
      "cell_type": "code",
      "source": [
        "def fitness():\n",
        "  pass"
      ],
      "metadata": {
        "id": "b3NgRg69pE6Y"
      },
      "execution_count": null,
      "outputs": []
    },
    {
      "cell_type": "code",
      "source": [
        "#GENERA VARIOS MOVIMIENTOS PARA LA HORMIGA\n",
        "def generarMovimientos():\n",
        "  movimientos=['A','D','I','Q']\n",
        "  numOportunidades=10\n",
        "  hormiga=[]\n",
        "  for i in range(numOportunidades):\n",
        "    movHormiga=[]\n",
        "    for j in range(numOportunidades):\n",
        "      movHormiga.append(random.choice(movimientos))\n",
        "    hormiga.append(movHormiga)"
      ],
      "metadata": {
        "id": "shPeQZbdtlcN",
        "colab": {
          "base_uri": "https://localhost:8080/"
        },
        "outputId": "05d7132e-73f2-4d29-cefa-80ef50847c44"
      },
      "execution_count": null,
      "outputs": [
        {
          "output_type": "stream",
          "name": "stdout",
          "text": [
            "['I', 'Q', 'D', 'A', 'Q', 'D', 'I', 'A', 'D', 'Q']\n"
          ]
        }
      ]
    },
    {
      "cell_type": "code",
      "source": [
        "def modificarCord(hormiga_x,hormiga_y, ejeElegido):\n",
        "  if ejeElegido == 0:\n",
        "      hormiga_x -=1\n",
        "      print(\"resta X\")\n",
        "  elif ejeElegido == 1:\n",
        "      hormiga_y +=1\n",
        "      print(\"suma Y\")\n",
        "  elif ejeElegido == 2:\n",
        "      hormiga_x +=1\n",
        "      print(\"suma X\")\n",
        "  elif  ejeElegido  == 3:\n",
        "      hormiga_y -=1\n",
        "      print(\"resta Y\")\n",
        "  return hormiga_x,hormiga_y"
      ],
      "metadata": {
        "id": "WDCPoC6lo1bG"
      },
      "execution_count": null,
      "outputs": []
    },
    {
      "cell_type": "code",
      "source": [
        "\n",
        "#PROGRAMA PRINCIPAL\n",
        "comidaEcontrada=True\n",
        "ejeElegido= elegirEje(hormiga_x,hormiga_y)\n",
        "for e in ant_t:\n",
        "  if e == 'A':\n",
        "    habitacion[hormiga_x ,hormiga_y ]=0\n",
        "    hormiga_x,hormiga_y=modificarCord(hormiga_x,hormiga_y,ejeElegido)\n",
        "    print(\"valores ACTUALES DE X\", hormiga_x,\" & Y\", hormiga_y)\n",
        "    habitacion[hormiga_x ,hormiga_y ]=4\n",
        "  if e == 'D':\n",
        "    ejeElegido = rotarEje(ejeElegido,'D')\n",
        "  if e == 'I':\n",
        "    ejeElegido = rotarEje(ejeElegido,'I')\n",
        "calDist(hormiga_x,comida_x,hormiga_y,comida_y)#calcular distancias\n",
        "if hormiga_x == comida_x and hormiga_y == comida_y:\n",
        "  print(\"COMIDA ENCONTRADA\")\n",
        "  habitacion[hormiga_x ,hormiga_y ]=0\n",
        "  habitacion[comida_x ,comida_y ]=4\n",
        "  comidaEcontrada=False\n",
        "print(habitacion)"
      ],
      "metadata": {
        "id": "Qa0hZ7APrmze"
      },
      "execution_count": null,
      "outputs": []
    }
  ]
}