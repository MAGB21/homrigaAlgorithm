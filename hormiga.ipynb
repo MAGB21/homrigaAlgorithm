{
  "nbformat": 4,
  "nbformat_minor": 0,
  "metadata": {
    "colab": {
      "provenance": [],
      "authorship_tag": "ABX9TyO4WpNZZBULkbwc1RIYf2Qm",
      "include_colab_link": true
    },
    "kernelspec": {
      "name": "python3",
      "display_name": "Python 3"
    },
    "language_info": {
      "name": "python"
    }
  },
  "cells": [
    {
      "cell_type": "markdown",
      "metadata": {
        "id": "view-in-github",
        "colab_type": "text"
      },
      "source": [
        "<a href=\"https://colab.research.google.com/github/MAGB21/homrigaAlgorithm/blob/main/hormiga.ipynb\" target=\"_parent\"><img src=\"https://colab.research.google.com/assets/colab-badge.svg\" alt=\"Open In Colab\"/></a>"
      ]
    },
    {
      "cell_type": "markdown",
      "source": [
        "la homria debe encontrar comida"
      ],
      "metadata": {
        "id": "ZO0xaFLJoR84"
      }
    },
    {
      "cell_type": "code",
      "source": [
        "import numpy as np\n",
        "import random"
      ],
      "metadata": {
        "id": "f4BbkP67neVZ"
      },
      "execution_count": 32,
      "outputs": []
    },
    {
      "cell_type": "code",
      "source": [
        "filas=10\n",
        "columnas=10\n",
        "habitacion = np.zeros((filas, columnas))\n",
        "print(habitacion)"
      ],
      "metadata": {
        "id": "mwjdeshSoaLw",
        "colab": {
          "base_uri": "https://localhost:8080/"
        },
        "outputId": "ee459a51-f3a5-448c-b63b-2a8ef28215d3"
      },
      "execution_count": 33,
      "outputs": [
        {
          "output_type": "stream",
          "name": "stdout",
          "text": [
            "[[0. 0. 0. 0. 0. 0. 0. 0. 0. 0.]\n",
            " [0. 0. 0. 0. 0. 0. 0. 0. 0. 0.]\n",
            " [0. 0. 0. 0. 0. 0. 0. 0. 0. 0.]\n",
            " [0. 0. 0. 0. 0. 0. 0. 0. 0. 0.]\n",
            " [0. 0. 0. 0. 0. 0. 0. 0. 0. 0.]\n",
            " [0. 0. 0. 0. 0. 0. 0. 0. 0. 0.]\n",
            " [0. 0. 0. 0. 0. 0. 0. 0. 0. 0.]\n",
            " [0. 0. 0. 0. 0. 0. 0. 0. 0. 0.]\n",
            " [0. 0. 0. 0. 0. 0. 0. 0. 0. 0.]\n",
            " [0. 0. 0. 0. 0. 0. 0. 0. 0. 0.]]\n"
          ]
        }
      ]
    },
    {
      "cell_type": "code",
      "source": [
        "comida_x = random.randint(0, 9)  # Genera un número entre 1 y 10 (ambos inclusive)\n",
        "comida_y = random.randint(0, 9)  # Genera un número entre 1 y 10 (ambos inclusive)\n",
        "habitacion[comida_x ,comida_y]=2\n",
        "print(habitacion)"
      ],
      "metadata": {
        "colab": {
          "base_uri": "https://localhost:8080/"
        },
        "id": "LBl2SFyTpkJI",
        "outputId": "008674e5-a2ba-404d-fecc-b131c7dc9b7d"
      },
      "execution_count": 34,
      "outputs": [
        {
          "output_type": "stream",
          "name": "stdout",
          "text": [
            "[[0. 0. 0. 0. 0. 0. 0. 0. 0. 0.]\n",
            " [0. 0. 0. 0. 0. 0. 0. 0. 0. 0.]\n",
            " [0. 0. 0. 0. 0. 0. 0. 0. 0. 0.]\n",
            " [0. 0. 0. 0. 0. 0. 0. 0. 0. 0.]\n",
            " [0. 0. 0. 0. 0. 0. 0. 0. 0. 0.]\n",
            " [0. 0. 0. 2. 0. 0. 0. 0. 0. 0.]\n",
            " [0. 0. 0. 0. 0. 0. 0. 0. 0. 0.]\n",
            " [0. 0. 0. 0. 0. 0. 0. 0. 0. 0.]\n",
            " [0. 0. 0. 0. 0. 0. 0. 0. 0. 0.]\n",
            " [0. 0. 0. 0. 0. 0. 0. 0. 0. 0.]]\n"
          ]
        }
      ]
    },
    {
      "cell_type": "code",
      "source": [
        "hormiga_x = random.randint(0, 9)  # Genera un número entre 1 y 10 (ambos inclusive)\n",
        "hormiga_y = random.randint(0, 9)  # Genera un número entre 1 y 10 (ambos inclusive)\n",
        "habitacion[hormiga_x ,hormiga_y ]=4\n",
        "print(habitacion)\n",
        "print(hormiga_x)\n",
        "print(hormiga_y)"
      ],
      "metadata": {
        "id": "IMFYIssarPyG",
        "colab": {
          "base_uri": "https://localhost:8080/"
        },
        "outputId": "ec0c9316-fe5f-48f1-d5e8-9caeef52fedf"
      },
      "execution_count": 35,
      "outputs": [
        {
          "output_type": "stream",
          "name": "stdout",
          "text": [
            "[[0. 0. 0. 0. 0. 0. 0. 0. 0. 0.]\n",
            " [0. 0. 0. 0. 0. 0. 0. 0. 0. 0.]\n",
            " [0. 0. 0. 0. 0. 0. 0. 0. 0. 0.]\n",
            " [0. 0. 0. 0. 0. 0. 0. 0. 0. 0.]\n",
            " [4. 0. 0. 0. 0. 0. 0. 0. 0. 0.]\n",
            " [0. 0. 0. 2. 0. 0. 0. 0. 0. 0.]\n",
            " [0. 0. 0. 0. 0. 0. 0. 0. 0. 0.]\n",
            " [0. 0. 0. 0. 0. 0. 0. 0. 0. 0.]\n",
            " [0. 0. 0. 0. 0. 0. 0. 0. 0. 0.]\n",
            " [0. 0. 0. 0. 0. 0. 0. 0. 0. 0.]]\n",
            "4\n",
            "0\n"
          ]
        }
      ]
    },
    {
      "cell_type": "code",
      "source": [
        "#MOVIMIENTOS IZQUIERDA(I) ADELANTE(A) DERECHA(D) QUIETO(Q)\n",
        "#EJEMPLO DE INDIVIDUO1 HORMIGA=[A,A,D,D,A,I,Q,Q,Q,Q]\n",
        "#EJEMPLO DE INDIVIDUO2 HORMIGA=[D,D,A,I,A,D,Q,Q,Q,Q]\n",
        "#GENERAR LA VARIABLE EJE CON LOS SIGUIENTES VALORES NORTE(0)-ESTE(1)-SUR(2)-OESTE(3)"
      ],
      "metadata": {
        "id": "QhDM4BZCrn52"
      },
      "execution_count": 36,
      "outputs": []
    },
    {
      "cell_type": "code",
      "source": [
        "#VERIFICA A QUE EJES TIENE PERMITIDO LA HORMIGA MOVERSE\n",
        "def elegirEje(hormiga_x,hormiga_y):\n",
        "  eje = [0,1,2,3]#EJE VALORES NORTE(0)-ESTE(1)-SUR(2)-OESTE(3)\n",
        "  if hormiga_x == 0:\n",
        "      eje.remove(0)\n",
        "  elif hormiga_x == 9:\n",
        "      eje.remove(2)\n",
        "  if hormiga_y == 0:\n",
        "      eje.remove(3)\n",
        "  elif hormiga_y == 9:\n",
        "      eje.remove(1)\n",
        "  ejeElegido = random.choice(eje)\n",
        "  #print(\"eje elegido de funcion elegirEje\", ejeElegido)\n",
        "  return ejeElegido"
      ],
      "metadata": {
        "id": "jVPDEPnru16c"
      },
      "execution_count": 37,
      "outputs": []
    },
    {
      "cell_type": "code",
      "source": [
        "#ROTA A LA HORMIGA DEPENDIENDO DEL MOVIMIENTO QUE SE HAGA(IZQUIERDA O DERECHA)\n",
        "def rotarEje(ejeElegido,direccion):\n",
        "  #MOVIMIENTO A LA DERECHA\n",
        "  #print(\"entro rotarEje y eje ya contenido \",ejeElegido)\n",
        "  if ejeElegido == 0 and direccion == 'D':#NORTE\n",
        "    ejeElegido =1\n",
        "  elif ejeElegido == 1 and direccion == 'D':#OESTE\n",
        "    ejeElegido =2\n",
        "  elif ejeElegido == 2 and direccion == 'D':#SUR\n",
        "    ejeElegido =3\n",
        "  elif ejeElegido == 3 and direccion == 'D':#ESTE\n",
        "    ejeElegido =0\n",
        "    #MOVIMIENTO A LA IZQUIERDA\n",
        "  elif ejeElegido == 0 and direccion == 'I':#NORTE\n",
        "    ejeElegido = 3\n",
        "  elif ejeElegido == 1 and direccion == 'I':#OESTE\n",
        "    ejeElegido = 0\n",
        "  elif ejeElegido == 2 and direccion == 'I':#SUR\n",
        "    ejeElegido = 1\n",
        "  elif ejeElegido == 3 and direccion == 'I':#ESTE\n",
        "    ejeElegido = 2\n",
        "  #print(\"eje elegido de funcion rotarEje\", ejeElegido)\n",
        "  return ejeElegido\n"
      ],
      "metadata": {
        "id": "by_EMUqhNsmi"
      },
      "execution_count": 38,
      "outputs": []
    },
    {
      "cell_type": "code",
      "source": [
        "#definir funcion para calcular la distancia\n",
        "def calDist(hormiga_x,hormiga_y,comida_x,comida_y):\n",
        "    distancia=abs(hormiga_x-comida_x)+abs(hormiga_y-comida_y)\n",
        "    #retornara la distancias hechas por los distintos patrones de movimiento de la hormiga\n",
        "    return distancia\n"
      ],
      "metadata": {
        "id": "fS5Jy5Rmqg6z"
      },
      "execution_count": 39,
      "outputs": []
    },
    {
      "cell_type": "code",
      "source": [
        "#GENERA VARIOS MOVIMIENTOS PARA LA HORMIGA\n",
        "def generarMovimientos():\n",
        "  movimientos=['A','D','I','Q']\n",
        "  numOportunidades=10\n",
        "  hormiga=[]\n",
        "  for i in range(numOportunidades):\n",
        "    movHormiga=[]\n",
        "    for j in range(numOportunidades):\n",
        "      movHormiga.append(random.choice(movimientos))\n",
        "    hormiga.append(movHormiga)\n",
        "  return hormiga"
      ],
      "metadata": {
        "id": "shPeQZbdtlcN"
      },
      "execution_count": 42,
      "outputs": []
    },
    {
      "cell_type": "code",
      "source": [
        "def modificarCord(hormiga_x,hormiga_y):\n",
        "  ejeElegido=elegirEje(hormiga_x,hormiga_y)\n",
        "  if ejeElegido == 0:\n",
        "      hormiga_x -=1\n",
        "      #print(\"resta X\")\n",
        "  elif ejeElegido == 1:\n",
        "      hormiga_y +=1\n",
        "      #print(\"suma Y\")\n",
        "  elif ejeElegido == 2:\n",
        "      hormiga_x +=1\n",
        "      #print(\"suma X\")\n",
        "  elif  ejeElegido  == 3:\n",
        "      hormiga_y -=1\n",
        "      #print(\"resta Y\")\n",
        "  return hormiga_x,hormiga_y"
      ],
      "metadata": {
        "id": "WDCPoC6lo1bG"
      },
      "execution_count": 43,
      "outputs": []
    },
    {
      "cell_type": "code",
      "source": [
        "#PROGRAMA PRINCIPAL\n",
        "#VARIABLES\n",
        "ID=1\n",
        "disAndMov= dict()\n",
        "ejeElegido= elegirEje(hormiga_x,hormiga_y)\n",
        "movimientos=generarMovimientos()\n",
        "for movInHormiga in movimientos:\n",
        "  for i in movInHormiga:\n",
        "    if i == 'A':\n",
        "      habitacion[hormiga_x ,hormiga_y ]=0\n",
        "      hormiga_x,hormiga_y=modificarCord(hormiga_x,hormiga_y)\n",
        "      #print(\"valores ACTUALES DE X\", hormiga_x,\" & Y\", hormiga_y)\n",
        "      habitacion[hormiga_x ,hormiga_y ]=4\n",
        "    if i == 'D':\n",
        "      ejeElegido = rotarEje(ejeElegido,'D')\n",
        "    if i == 'I':\n",
        "      ejeElegido = rotarEje(ejeElegido,'I')\n",
        "  disAndMov[f\"distancia {ID}\"]=calDist(hormiga_x,hormiga_y,comida_x,comida_y)\n",
        "  disAndMov[f\"movHormiga {ID}\"]=movInHormiga\n",
        "  ID+=1\n",
        "\n",
        "#calcular distancias\n",
        "# if hormiga_x == comida_x and hormiga_y == comida_y:\n",
        "#   print(\"COMIDA ENCONTRADA\")\n",
        "#   habitacion[hormiga_x ,hormiga_y ]=0\n",
        "#   habitacion[comida_x ,comida_y ]=4\n",
        "#   comidaEcontrada=False\n",
        "print(habitacion)\n",
        "print(disAndMov)"
      ],
      "metadata": {
        "id": "Qa0hZ7APrmze",
        "colab": {
          "base_uri": "https://localhost:8080/"
        },
        "outputId": "136e8e84-68d5-4261-b7ae-7037d4b8d89d"
      },
      "execution_count": 44,
      "outputs": [
        {
          "output_type": "stream",
          "name": "stdout",
          "text": [
            "[[0. 0. 0. 0. 0. 0. 0. 0. 0. 0.]\n",
            " [0. 0. 0. 0. 0. 0. 0. 0. 0. 0.]\n",
            " [0. 0. 0. 0. 0. 0. 0. 0. 0. 0.]\n",
            " [0. 0. 0. 0. 0. 0. 0. 0. 0. 0.]\n",
            " [0. 0. 0. 0. 0. 0. 0. 0. 0. 0.]\n",
            " [0. 4. 0. 2. 0. 0. 0. 0. 0. 0.]\n",
            " [0. 0. 0. 0. 0. 0. 0. 0. 0. 0.]\n",
            " [0. 0. 0. 0. 0. 0. 0. 0. 0. 0.]\n",
            " [0. 0. 0. 0. 0. 0. 0. 0. 0. 0.]\n",
            " [0. 0. 0. 0. 0. 0. 0. 0. 0. 0.]]\n",
            "{'distancia 1': 3, 'movHormiga 1': ['Q', 'Q', 'Q', 'Q', 'I', 'Q', 'D', 'I', 'D', 'A'], 'distancia 2': 3, 'movHormiga 2': ['I', 'D', 'Q', 'Q', 'I', 'I', 'I', 'Q', 'I', 'D'], 'distancia 3': 3, 'movHormiga 3': ['I', 'I', 'D', 'D', 'D', 'D', 'D', 'D', 'D', 'Q'], 'distancia 4': 3, 'movHormiga 4': ['D', 'A', 'Q', 'A', 'Q', 'A', 'D', 'A', 'I', 'Q'], 'distancia 5': 2, 'movHormiga 5': ['D', 'D', 'I', 'Q', 'I', 'Q', 'A', 'A', 'A', 'D'], 'distancia 6': 3, 'movHormiga 6': ['A', 'I', 'Q', 'D', 'D', 'Q', 'A', 'Q', 'D', 'A'], 'distancia 7': 6, 'movHormiga 7': ['A', 'I', 'I', 'A', 'I', 'D', 'D', 'A', 'A', 'A'], 'distancia 8': 5, 'movHormiga 8': ['A', 'D', 'A', 'I', 'Q', 'Q', 'D', 'I', 'Q', 'A'], 'distancia 9': 4, 'movHormiga 9': ['Q', 'I', 'Q', 'I', 'D', 'I', 'D', 'I', 'D', 'A'], 'distancia 10': 2, 'movHormiga 10': ['A', 'A', 'Q', 'I', 'Q', 'D', 'Q', 'D', 'A', 'A']}\n"
          ]
        }
      ]
    }
  ]
}